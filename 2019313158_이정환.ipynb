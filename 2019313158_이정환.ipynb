{
  "nbformat": 4,
  "nbformat_minor": 0,
  "metadata": {
    "colab": {
      "provenance": []
    },
    "kernelspec": {
      "name": "python3",
      "display_name": "Python 3"
    },
    "language_info": {
      "name": "python"
    }
  },
  "cells": [
    {
      "cell_type": "markdown",
      "source": [
        "## Task\n",
        "- Complete **isHappy** function following the description below\n",
        "\n",
        "### Happy Number\n",
        "Write an algorithm to determine if a number **n** is happy.\n",
        "\n",
        "A **happy number** is a number defined by the following process:\n",
        "\n",
        "* Starting with any positive integer, replace the number by the sum of the squares of its digits.\n",
        "* Repeat the process until the number equals 1 (where it will stay), or it **loops endlessly in a cycle** which does not include 1.\n",
        "* Those numbers for which this process **ends in 1** are happy.\n",
        "\n",
        "Return **true** if n is a happy number, and **false** if not.\n",
        "\n",
        "Constraints:\n",
        "1 <= n <= $2^{31}$ - 1"
      ],
      "metadata": {
        "id": "TV3Socqg8BVl"
      }
    },
    {
      "cell_type": "code",
      "execution_count": 21,
      "metadata": {
        "id": "5FcxitVf5kdQ"
      },
      "outputs": [],
      "source": [
        "def sum_of_digit(n):\n",
        "  s = str(n)\n",
        "  num_digit = len(s)\n",
        "\n",
        "  digit_list = []\n",
        "\n",
        "  for m in range(num_digit - 1, -1, -1):\n",
        "    divider = 10 ** m\n",
        "    d = n // divider\n",
        "    n = n - d * divider\n",
        "    digit_list.append(d)\n",
        "\n",
        "  sum = 0\n",
        "  for d in digit_list:\n",
        "    sum += d ** 2\n",
        "\n",
        "  return sum\n",
        "\n",
        "\n",
        "def isHappy(n):\n",
        "  n_list = []\n",
        "  res = sum_of_digit(n)\n",
        "  while True:\n",
        "    res = sum_of_digit(res)\n",
        "    if res in n_list and res != 1:\n",
        "      return False\n",
        "    elif res == 1:\n",
        "      break\n",
        "    else:\n",
        "      n_list.append(res)\n",
        "      continue\n",
        "\n",
        "  return True"
      ]
    },
    {
      "cell_type": "markdown",
      "source": [
        "**Testcase 1.**\n",
        "\n",
        "**Input**: 19\n",
        "\n",
        "**Output**: True\n",
        "\n",
        "**Explanation**:\n",
        "\n",
        "$1^2 + 9^2 = 82$\n",
        "\n",
        "$8^2 + 2^2 = 68$\n",
        "\n",
        "$6^2 + 8^2 = 100$\n",
        "\n",
        "$1^2 + 0^2 + 0^2 = 1$"
      ],
      "metadata": {
        "id": "eRrh24Ognrqf"
      }
    },
    {
      "cell_type": "markdown",
      "source": [
        "**Testcase 2.**\n",
        "\n",
        "**Input**: 2\n",
        "\n",
        "**Output**: False"
      ],
      "metadata": {
        "id": "dE7YMY8qoPoj"
      }
    },
    {
      "cell_type": "code",
      "source": [
        "isHappy(82)"
      ],
      "metadata": {
        "colab": {
          "base_uri": "https://localhost:8080/"
        },
        "id": "2ClQGHVkXJfN",
        "outputId": "3fbd491f-2395-45f6-9254-aa10ad004796"
      },
      "execution_count": 23,
      "outputs": [
        {
          "output_type": "execute_result",
          "data": {
            "text/plain": [
              "True"
            ]
          },
          "metadata": {},
          "execution_count": 23
        }
      ]
    },
    {
      "cell_type": "code",
      "source": [],
      "metadata": {
        "id": "Lwyj6HnOYXbN"
      },
      "execution_count": null,
      "outputs": []
    }
  ]
}